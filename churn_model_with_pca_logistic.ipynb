{
  "nbformat": 4,
  "nbformat_minor": 0,
  "metadata": {
    "colab": {
      "provenance": []
    },
    "kernelspec": {
      "name": "python3",
      "display_name": "Python 3"
    },
    "language_info": {
      "name": "python"
    }
  },
  "cells": [
    {
      "cell_type": "markdown",
      "source": [
        "# **Machine Learning Modeling**"
      ],
      "metadata": {
        "id": "NYuhfIyIDzQh"
      }
    },
    {
      "cell_type": "markdown",
      "source": [
        "**1. Define your binary target**"
      ],
      "metadata": {
        "id": "F2tuVIkwEnGw"
      }
    },
    {
      "cell_type": "code",
      "source": [
        "import pandas as pd\n",
        "\n",
        "df = pd.read_csv(\"Customer_churn.csv\")\n",
        "df[\"ChurnFlag\"] = df[\"Churn Category\"].notna().astype(int)\n"
      ],
      "metadata": {
        "id": "Z1pChBK3Elyi"
      },
      "execution_count": 1,
      "outputs": []
    },
    {
      "cell_type": "markdown",
      "source": [
        "**2. Split off ID / churn-meta columns**"
      ],
      "metadata": {
        "id": "7J6FTKWnEtJM"
      }
    },
    {
      "cell_type": "code",
      "source": [
        "X = df.drop(\n",
        "    [\"Customer ID\", \"Churn Category\", \"Churn Reason\", \"ChurnFlag\"],\n",
        "    axis=1\n",
        ")\n",
        "y = df[\"ChurnFlag\"]"
      ],
      "metadata": {
        "id": "Psm437b_Elv5"
      },
      "execution_count": 2,
      "outputs": []
    },
    {
      "cell_type": "markdown",
      "source": [
        "**3. Train/test split (stratified)**"
      ],
      "metadata": {
        "id": "KE7NUFSHEzQD"
      }
    },
    {
      "cell_type": "code",
      "source": [
        "from sklearn.model_selection import train_test_split\n",
        "\n",
        "X_train, X_test, y_train, y_test = train_test_split(\n",
        "    X, y,\n",
        "    stratify=y,\n",
        "    test_size=0.30,\n",
        "    random_state=42\n",
        ")"
      ],
      "metadata": {
        "id": "eQVTRHehEltc"
      },
      "execution_count": 3,
      "outputs": []
    },
    {
      "cell_type": "markdown",
      "source": [
        "**4. Preprocessing pipeline**"
      ],
      "metadata": {
        "id": "WnGVKpQKE_OW"
      }
    },
    {
      "cell_type": "code",
      "source": [
        "from sklearn.compose    import ColumnTransformer\n",
        "from sklearn.preprocessing import StandardScaler, OneHotEncoder\n",
        "\n",
        "num_cols = X_train.select_dtypes(include=[\"number\"]).columns\n",
        "cat_cols = X_train.select_dtypes(include=[\"object\"]).columns\n",
        "\n",
        "preprocessor = ColumnTransformer([\n",
        "    (\"num\", StandardScaler(), num_cols),\n",
        "    (\"cat\", OneHotEncoder(handle_unknown=\"ignore\", sparse_output=False), cat_cols)\n",
        "])"
      ],
      "metadata": {
        "id": "g3mdALlmElq2"
      },
      "execution_count": 4,
      "outputs": []
    },
    {
      "cell_type": "markdown",
      "source": [
        "**5. Handle class imbalance**"
      ],
      "metadata": {
        "id": "FsPeOg7mFJKi"
      }
    },
    {
      "cell_type": "code",
      "source": [
        "# Example: Logistic with class_weight\n",
        "from sklearn.pipeline import Pipeline\n",
        "from sklearn.linear_model import LogisticRegression\n",
        "\n",
        "pipe_lr = Pipeline([\n",
        "    (\"pre\", preprocessor),\n",
        "    (\"clf\", LogisticRegression(\n",
        "        class_weight=\"balanced\", max_iter=1000, random_state=42\n",
        "    ))\n",
        "])"
      ],
      "metadata": {
        "id": "wCcJzEeaEloS"
      },
      "execution_count": 5,
      "outputs": []
    },
    {
      "cell_type": "markdown",
      "source": [
        "**6. Dimensionality reduction + model PCA → Logistic, tuned for recall:**"
      ],
      "metadata": {
        "id": "nywg0e-JFUTK"
      }
    },
    {
      "cell_type": "code",
      "source": [
        "from sklearn.impute import SimpleImputer\n",
        "from sklearn.pipeline import Pipeline\n",
        "from sklearn.compose import ColumnTransformer\n",
        "from sklearn.preprocessing import StandardScaler, OneHotEncoder\n",
        "from sklearn.decomposition import PCA\n",
        "from sklearn.linear_model import LogisticRegression\n",
        "from sklearn.model_selection import GridSearchCV\n",
        "\n",
        "# 1) Define numeric and categorical cols\n",
        "num_cols = X_train.select_dtypes(include=\"number\").columns.tolist()\n",
        "cat_cols = X_train.select_dtypes(include=\"object\").columns.tolist()\n",
        "\n",
        "# 2) Make separate pipelines with imputation\n",
        "numeric_pipeline = Pipeline([\n",
        "    (\"impute\", SimpleImputer(strategy=\"median\")),\n",
        "    (\"scale\", StandardScaler())\n",
        "])\n",
        "\n",
        "categorical_pipeline = Pipeline([\n",
        "    (\"impute\", SimpleImputer(strategy=\"most_frequent\")),\n",
        "    (\"ohe\", OneHotEncoder(handle_unknown=\"ignore\", sparse_output=False))\n",
        "])\n",
        "\n",
        "# 3) Combine into one transformer\n",
        "preprocessor = ColumnTransformer([\n",
        "    (\"num\", numeric_pipeline, num_cols),\n",
        "    (\"cat\", categorical_pipeline, cat_cols)\n",
        "])\n",
        "\n",
        "# 4) Full PCA + Logistic pipeline\n",
        "pipe_pca = Pipeline([\n",
        "    (\"pre\", preprocessor),\n",
        "    (\"pca\", PCA()),\n",
        "    (\"clf\", LogisticRegression(class_weight=\"balanced\", max_iter=1000))\n",
        "])\n",
        "\n",
        "param_grid = {\n",
        "    \"pca__n_components\": [5, 10, 15, 20],\n",
        "    \"clf__C\":             [0.01, 0.1, 1, 10]\n",
        "}\n",
        "\n",
        "grid = GridSearchCV(\n",
        "    pipe_pca,\n",
        "    param_grid,\n",
        "    cv=5,\n",
        "    scoring=\"recall\",\n",
        "    n_jobs=-1,\n",
        "    error_score=\"raise\"   # so you’ll see exact failure if it happens\n",
        ")\n",
        "\n",
        "grid.fit(X_train, y_train)\n",
        "print(\"Best params:\", grid.best_params_)"
      ],
      "metadata": {
        "colab": {
          "base_uri": "https://localhost:8080/"
        },
        "id": "0Gr27EnoEllt",
        "outputId": "c25cedb3-97c0-467e-e697-ef7bc74e9b04"
      },
      "execution_count": 6,
      "outputs": [
        {
          "output_type": "stream",
          "name": "stdout",
          "text": [
            "Best params: {'clf__C': 0.1, 'pca__n_components': 20}\n"
          ]
        }
      ]
    },
    {
      "cell_type": "markdown",
      "source": [
        "**Evaluation on test set**"
      ],
      "metadata": {
        "id": "MzMoLkkmGeLa"
      }
    },
    {
      "cell_type": "code",
      "source": [
        "from sklearn.metrics import classification_report, roc_auc_score\n",
        "\n",
        "y_pred = grid.predict(X_test)\n",
        "y_proba = grid.predict_proba(X_test)[:,1]\n",
        "\n",
        "print(classification_report(y_test, y_pred))\n",
        "print(\"ROC AUC:\", roc_auc_score(y_test, y_proba))"
      ],
      "metadata": {
        "colab": {
          "base_uri": "https://localhost:8080/"
        },
        "id": "QxSf4V-6EljB",
        "outputId": "d74def17-64b0-4be1-97f6-cba4a4ea8e6f"
      },
      "execution_count": 7,
      "outputs": [
        {
          "output_type": "stream",
          "name": "stdout",
          "text": [
            "              precision    recall  f1-score   support\n",
            "\n",
            "           0       0.99      0.94      0.96      1552\n",
            "           1       0.86      0.96      0.91       561\n",
            "\n",
            "    accuracy                           0.95      2113\n",
            "   macro avg       0.92      0.95      0.94      2113\n",
            "weighted avg       0.95      0.95      0.95      2113\n",
            "\n",
            "ROC AUC: 0.9916593160225664\n"
          ]
        }
      ]
    },
    {
      "cell_type": "markdown",
      "source": [
        "**7. Interpretable model**"
      ],
      "metadata": {
        "id": "Ry76TXRiGo7b"
      }
    },
    {
      "cell_type": "code",
      "source": [
        "# Logistic on all features\n",
        "pipe_int = Pipeline([\n",
        "    (\"pre\", preprocessor),\n",
        "    (\"clf\", LogisticRegression(\n",
        "        class_weight=\"balanced\",\n",
        "        penalty=\"l1\",        # L1 helps feature selection\n",
        "        solver=\"liblinear\",\n",
        "        max_iter=1000\n",
        "    ))\n",
        "])\n",
        "pipe_int.fit(X_train, y_train)\n",
        "\n",
        "# Extract and rank coefficients\n",
        "import numpy as np\n",
        "\n",
        "# get feature names\n",
        "ohe = pipe_int.named_steps[\"pre\"].named_transformers_[\"cat\"]\n",
        "cat_names = ohe.get_feature_names_out(cat_cols)\n",
        "feat_names = list(num_cols) + list(cat_names)\n",
        "\n",
        "coefs = pipe_int.named_steps[\"clf\"].coef_[0]\n",
        "imp = pd.Series(np.abs(coefs), index=feat_names).sort_values(ascending=False)\n",
        "print(\"Top 10 predictors:\\n\", imp.head(5))"
      ],
      "metadata": {
        "colab": {
          "base_uri": "https://localhost:8080/"
        },
        "id": "6kHe0WIqElgN",
        "outputId": "4242c55b-3548-4a9f-a9c5-2bfd98e9140c"
      },
      "execution_count": 11,
      "outputs": [
        {
          "output_type": "stream",
          "name": "stdout",
          "text": [
            "Top 10 predictors:\n",
            " Customer Status_Churned    7.753403\n",
            "Customer Status_Stayed     7.702084\n",
            "Customer Status_Joined     5.296988\n",
            "Monthly Charge             0.048380\n",
            "Phone Service_Yes          0.003049\n",
            "dtype: float64\n"
          ]
        }
      ]
    },
    {
      "cell_type": "code",
      "source": [
        "import matplotlib.pyplot as plt\n",
        "\n",
        "top10 = imp.head(5)\n",
        "plt.figure()\n",
        "top10.plot.bar()\n",
        "plt.title(\"Top 5 Features by |Coefficient|\")\n",
        "plt.ylabel(\"Absolute coefficient\")\n",
        "plt.tight_layout()\n",
        "plt.show()"
      ],
      "metadata": {
        "colab": {
          "base_uri": "https://localhost:8080/",
          "height": 487
        },
        "id": "a2st5mEiElYf",
        "outputId": "56e77b72-0972-40d2-f1dc-53630adc0c35"
      },
      "execution_count": 10,
      "outputs": [
        {
          "output_type": "display_data",
          "data": {
            "text/plain": [
              "<Figure size 640x480 with 1 Axes>"
            ],
            "image/png": "[encoded data removed]"
          },
          "metadata": {}
        }
      ]
    },
    {
      "cell_type": "markdown",
      "source": [
        "**ROC & Precision–Recall curves**"
      ],
      "metadata": {
        "id": "unmV7nctHoDq"
      }
    },
    {
      "cell_type": "code",
      "source": [
        "import matplotlib.pyplot as plt\n",
        "from sklearn.metrics import roc_curve\n",
        "\n",
        "# ROC\n",
        "fpr, tpr, _ = roc_curve(y_test, y_proba)\n",
        "plt.figure()\n",
        "plt.plot(fpr, tpr, label=f\"AUC = {roc_auc_score(y_test, y_proba):.3f}\")\n",
        "plt.plot([0,1],[0,1], linestyle=\"--\")\n",
        "plt.xlabel(\"False Positive Rate\")\n",
        "plt.ylabel(\"True Positive Rate\")\n",
        "plt.title(\"ROC Curve\")\n",
        "plt.legend()\n",
        "plt.show()\n",
        "\n",
        "# Precision-Recall\n",
        "plt.figure()\n",
        "plt.plot(recall, precision)\n",
        "plt.xlabel(\"Recall\")\n",
        "plt.ylabel(\"Precision\")\n",
        "plt.title(\"Precision-Recall Curve\")\n",
        "plt.show()\n"
      ],
      "metadata": {
        "colab": {
          "base_uri": "https://localhost:8080/",
          "height": 927
        },
        "id": "2t_A0ypaHfIp",
        "outputId": "7edda03f-1bab-4c43-ba27-31d14e29e56c"
      },
      "execution_count": 13,
      "outputs": [
        {
          "output_type": "display_data",
          "data": {
            "text/plain": [
              "<Figure size 640x480 with 1 Axes>"
            ],
            "image/png": "[encoded data removed]"
          },
          "metadata": {}
        },
        {
          "output_type": "display_data",
          "data": {
            "text/plain": [
              "<Figure size 640x480 with 1 Axes>"
            ],
            "image/png": "[encoded data removed]"
          },
          "metadata": {}
        }
      ]
    },
    {
      "cell_type": "markdown",
      "source": [
        "**Measuring train‐set performance**"
      ],
      "metadata": {
        "id": "dGawG4_uHwpI"
      }
    },
    {
      "cell_type": "code",
      "source": [
        "from sklearn.metrics import classification_report, roc_auc_score\n",
        "\n",
        "# Predict on train\n",
        "y_train_pred = grid.predict(X_train)\n",
        "y_train_proba = grid.predict_proba(X_train)[:, 1]\n",
        "\n",
        "print(\"=== TRAIN SET ===\")\n",
        "print(classification_report(y_train, y_train_pred))\n",
        "print(\"ROC AUC (train):\", roc_auc_score(y_train, y_train_proba))\n",
        "\n",
        "print(\"\\n=== TEST SET ===\")\n",
        "y_test_pred = grid.predict(X_test)\n",
        "y_test_proba = grid.predict_proba(X_test)[:, 1]\n",
        "print(classification_report(y_test, y_test_pred))\n",
        "print(\"ROC AUC (test):\", roc_auc_score(y_test, y_test_proba))"
      ],
      "metadata": {
        "colab": {
          "base_uri": "https://localhost:8080/"
        },
        "id": "68QTnOzfHr6B",
        "outputId": "64b3a8c4-2f82-44b6-9471-5b01690400cb"
      },
      "execution_count": 15,
      "outputs": [
        {
          "output_type": "stream",
          "name": "stdout",
          "text": [
            "=== TRAIN SET ===\n",
            "              precision    recall  f1-score   support\n",
            "\n",
            "           0       0.99      0.96      0.97      3622\n",
            "           1       0.90      0.96      0.93      1308\n",
            "\n",
            "    accuracy                           0.96      4930\n",
            "   macro avg       0.94      0.96      0.95      4930\n",
            "weighted avg       0.96      0.96      0.96      4930\n",
            "\n",
            "ROC AUC (train): 0.9944855765902224\n",
            "\n",
            "=== TEST SET ===\n",
            "              precision    recall  f1-score   support\n",
            "\n",
            "           0       0.99      0.94      0.96      1552\n",
            "           1       0.86      0.96      0.91       561\n",
            "\n",
            "    accuracy                           0.95      2113\n",
            "   macro avg       0.92      0.95      0.94      2113\n",
            "weighted avg       0.95      0.95      0.95      2113\n",
            "\n",
            "ROC AUC (test): 0.9916593160225664\n"
          ]
        }
      ]
    },
    {
      "cell_type": "markdown",
      "source": [
        "**learning curves**"
      ],
      "metadata": {
        "id": "2jQFAbrfH_oF"
      }
    },
    {
      "cell_type": "code",
      "source": [
        "import numpy as np\n",
        "import matplotlib.pyplot as plt\n",
        "from sklearn.model_selection import learning_curve\n",
        "\n",
        "est = grid.best_estimator_\n",
        "\n",
        "train_sizes, train_scores, val_scores = learning_curve(\n",
        "    est, X, y,\n",
        "    cv=5,\n",
        "    scoring=\"recall\",\n",
        "    train_sizes=np.linspace(0.1, 1.0, 5),\n",
        "    n_jobs=-1\n",
        ")\n",
        "\n",
        "train_mean = np.mean(train_scores, axis=1)\n",
        "val_mean   = np.mean(val_scores,   axis=1)\n",
        "\n",
        "plt.figure()\n",
        "plt.plot(train_sizes, train_mean, label=\"Training recall\")\n",
        "plt.plot(train_sizes, val_mean,   label=\"Validation recall\")\n",
        "plt.xlabel(\"Number of training examples\")\n",
        "plt.ylabel(\"Recall\")\n",
        "plt.title(\"Learning Curve\")\n",
        "plt.legend()\n",
        "plt.show()"
      ],
      "metadata": {
        "colab": {
          "base_uri": "https://localhost:8080/",
          "height": 472
        },
        "id": "eHjAN7w6H0Dp",
        "outputId": "d6e9b607-20e0-4046-834e-1868268f8791"
      },
      "execution_count": 16,
      "outputs": [
        {
          "output_type": "display_data",
          "data": {
            "text/plain": [
              "<Figure size 640x480 with 1 Axes>"
            ],
            "image/png": "[encoded data removed]"
          },
          "metadata": {}
        }
      ]
    },
    {
      "cell_type": "markdown",
      "source": [
        "**stronger regularization**"
      ],
      "metadata": {
        "id": "VDl6ac7XIF95"
      }
    },
    {
      "cell_type": "code",
      "source": [
        "param_grid = {\n",
        "    \"pca__n_components\": [5, 10],\n",
        "    \"clf__C\": [0.001, 0.01, 0.1]       # smaller C = heavier regularization\n",
        "}\n",
        "grid_strong = GridSearchCV(pipe_pca, param_grid, cv=5, scoring=\"recall\", n_jobs=-1)\n",
        "grid_strong.fit(X_train, y_train)"
      ],
      "metadata": {
        "colab": {
          "base_uri": "https://localhost:8080/",
          "height": 358
        },
        "id": "O6cONbTDH4aJ",
        "outputId": "3a6086b4-bd8e-4ff8-ed82-3081aab43c65"
      },
      "execution_count": 17,
      "outputs": [
        {
          "output_type": "execute_result",
          "data": {
            "text/plain": [
              "GridSearchCV(cv=5,\n",
              "             estimator=Pipeline(steps=[('pre',\n",
              "                                        ColumnTransformer(transformers=[('num',\n",
              "                                                                         Pipeline(steps=[('impute',\n",
              "                                                                                          SimpleImputer(strategy='median')),\n",
              "                                                                                         ('scale',\n",
              "                                                                                          StandardScaler())]),\n",
              "                                                                         ['Age',\n",
              "                                                                          'Number '\n",
              "                                                                          'of '\n",
              "                                                                          'Dependents',\n",
              "                                                                          'Zip '\n",
              "                                                                          'Code',\n",
              "                                                                          'Latitude',\n",
              "                                                                          'Longitude',\n",
              "                                                                          'Number '\n",
              "                                                                          'of '\n",
              "                                                                          'Referrals',\n",
              "                                                                          'Tenure '\n",
              "                                                                          'in '\n",
              "                                                                          'Months',\n",
              "                                                                          'Avg '\n",
              "                                                                          'Monthly '\n",
              "                                                                          'Long '\n",
              "                                                                          'Distance '\n",
              "                                                                          'Charges',\n",
              "                                                                          'Avg '\n",
              "                                                                          'Monthly '\n",
              "                                                                          'GB '\n",
              "                                                                          '...\n",
              "                                                                          'Plan',\n",
              "                                                                          'Premium '\n",
              "                                                                          'Tech '\n",
              "                                                                          'Support',\n",
              "                                                                          'Streaming '\n",
              "                                                                          'TV',\n",
              "                                                                          'Streaming '\n",
              "                                                                          'Movies',\n",
              "                                                                          'Streaming '\n",
              "                                                                          'Music',\n",
              "                                                                          'Unlimited '\n",
              "                                                                          'Data',\n",
              "                                                                          'Contract',\n",
              "                                                                          'Paperless '\n",
              "                                                                          'Billing',\n",
              "                                                                          'Payment '\n",
              "                                                                          'Method',\n",
              "                                                                          'Customer '\n",
              "                                                                          'Status'])])),\n",
              "                                       ('pca', PCA()),\n",
              "                                       ('clf',\n",
              "                                        LogisticRegression(class_weight='balanced',\n",
              "                                                           max_iter=1000))]),\n",
              "             n_jobs=-1,\n",
              "             param_grid={'clf__C': [0.001, 0.01, 0.1],\n",
              "                         'pca__n_components': [5, 10]},\n",
              "             scoring='recall')"
            ],
            "text/html": [
              "<style>#sk-container-id-1 {\n",
              "  /* Definition of color scheme common for light and dark mode */\n",
              "  --sklearn-color-text: #000;\n",
              "  --sklearn-color-text-muted: #666;\n",
              "  --sklearn-color-line: gray;\n",
              "  /* Definition of color scheme for unfitted estimators */\n",
              "  --sklearn-color-unfitted-level-0: #fff5e6;\n",
              "  --sklearn-color-unfitted-level-1: #f6e4d2;\n",
              "  --sklearn-color-unfitted-level-2: #ffe0b3;\n",
              "  --sklearn-color-unfitted-level-3: chocolate;\n",
              "  /* Definition of color scheme for fitted estimators */\n",
              "  --sklearn-color-fitted-level-0: #f0f8ff;\n",
              "  --sklearn-color-fitted-level-1: #d4ebff;\n",
              "  --sklearn-color-fitted-level-2: #b3dbfd;\n",
              "  --sklearn-color-fitted-level-3: cornflowerblue;\n",
              "\n",
              "  /* Specific color for light theme */\n",
              "  --sklearn-color-text-on-default-background: var(--sg-text-color, var(--theme-code-foreground, var(--jp-content-font-color1, black)));\n",
              "  --sklearn-color-background: var(--sg-background-color, var(--theme-background, var(--jp-layout-color0, white)));\n",
              "  --sklearn-color-border-box: var(--sg-text-color, var(--theme-code-foreground, var(--jp-content-font-color1, black)));\n",
              "  --sklearn-color-icon: #696969;\n",
              "\n",
              "  @media (prefers-color-scheme: dark) {\n",
              "    /* Redefinition of color scheme for dark theme */\n",
              "    --sklearn-color-text-on-default-background: var(--sg-text-color, var(--theme-code-foreground, var(--jp-content-font-color1, white)));\n",
              "    --sklearn-color-background: var(--sg-background-color, var(--theme-background, var(--jp-layout-color0, #111)));\n",
              "    --sklearn-color-border-box: var(--sg-text-color, var(--theme-code-foreground, var(--jp-content-font-color1, white)));\n",
              "    --sklearn-color-icon: #878787;\n",
              "  }\n",
              "}\n",
              "\n",
              "#sk-container-id-1 {\n",
              "  color: var(--sklearn-color-text);\n",
              "}\n",
              "\n",
              "#sk-container-id-1 pre {\n",
              "  padding: 0;\n",
              "}\n",
              "\n",
              "#sk-container-id-1 input.sk-hidden--visually {\n",
              "  border: 0;\n",
              "  clip: rect(1px 1px 1px 1px);\n",
              "  clip: rect(1px, 1px, 1px, 1px);\n",
              "  height: 1px;\n",
              "  margin: -1px;\n",
              "  overflow: hidden;\n",
              "  padding: 0;\n",
              "  position: absolute;\n",
              "  width: 1px;\n",
              "}\n",
              "\n",
              "#sk-container-id-1 div.sk-dashed-wrapped {\n",
              "  border: 1px dashed var(--sklearn-color-line);\n",
              "  margin: 0 0.4em 0.5em 0.4em;\n",
              "  box-sizing: border-box;\n",
              "  padding-bottom: 0.4em;\n",
              "  background-color: var(--sklearn-color-background);\n",
              "}\n",
              "\n",
              "#sk-container-id-1 div.sk-container {\n",
              "  /* jupyter's `normalize.less` sets `[hidden] { display: none; }`\n",
              "     but bootstrap.min.css set `[hidden] { display: none !important; }`\n",
              "     so we also need the `!important` here to be able to override the\n",
              "     default hidden behavior on the sphinx rendered scikit-learn.org.\n",
              "     See: https://github.com/scikit-learn/scikit-learn/issues/21755 */\n",
              "  display: inline-block !important;\n",
              "  position: relative;\n",
              "}\n",
              "\n",
              "#sk-container-id-1 div.sk-text-repr-fallback {\n",
              "  display: none;\n",
              "}\n",
              "\n",
              "div.sk-parallel-item,\n",
              "div.sk-serial,\n",
              "div.sk-item {\n",
              "  /* draw centered vertical line to link estimators */\n",
              "  background-image: linear-gradient(var(--sklearn-color-text-on-default-background), var(--sklearn-color-text-on-default-background));\n",
              "  background-size: 2px 100%;\n",
              "  background-repeat: no-repeat;\n",
              "  background-position: center center;\n",
              "}\n",
              "\n",
              "/* Parallel-specific style estimator block */\n",
              "\n",
              "#sk-container-id-1 div.sk-parallel-item::after {\n",
              "  content: \"\";\n",
              "  width: 100%;\n",
              "  border-bottom: 2px solid var(--sklearn-color-text-on-default-background);\n",
              "  flex-grow: 1;\n",
              "}\n",
              "\n",
              "#sk-container-id-1 div.sk-parallel {\n",
              "  display: flex;\n",
              "  align-items: stretch;\n",
              "  justify-content: center;\n",
              "  background-color: var(--sklearn-color-background);\n",
              "  position: relative;\n",
              "}\n",
              "\n",
              "#sk-container-id-1 div.sk-parallel-item {\n",
              "  display: flex;\n",
              "  flex-direction: column;\n",
              "}\n",
              "\n",
              "#sk-container-id-1 div.sk-parallel-item:first-child::after {\n",
              "  align-self: flex-end;\n",
              "  width: 50%;\n",
              "}\n",
              "\n",
              "#sk-container-id-1 div.sk-parallel-item:last-child::after {\n",
              "  align-self: flex-start;\n",
              "  width: 50%;\n",
              "}\n",
              "\n",
              "#sk-container-id-1 div.sk-parallel-item:only-child::after {\n",
              "  width: 0;\n",
              "}\n",
              "\n",
              "/* Serial-specific style estimator block */\n",
              "\n",
              "#sk-container-id-1 div.sk-serial {\n",
              "  display: flex;\n",
              "  flex-direction: column;\n",
              "  align-items: center;\n",
              "  background-color: var(--sklearn-color-background);\n",
              "  padding-right: 1em;\n",
              "  padding-left: 1em;\n",
              "}\n",
              "\n",
              "\n",
              "/* Toggleable style: style used for estimator/Pipeline/ColumnTransformer box that is\n",
              "clickable and can be expanded/collapsed.\n",
              "- Pipeline and ColumnTransformer use this feature and define the default style\n",
              "- Estimators will overwrite some part of the style using the `sk-estimator` class\n",
              "*/\n",
              "\n",
              "/* Pipeline and ColumnTransformer style (default) */\n",
              "\n",
              "#sk-container-id-1 div.sk-toggleable {\n",
              "  /* Default theme specific background. It is overwritten whether we have a\n",
              "  specific estimator or a Pipeline/ColumnTransformer */\n",
              "  background-color: var(--sklearn-color-background);\n",
              "}\n",
              "\n",
              "/* Toggleable label */\n",
              "#sk-container-id-1 label.sk-toggleable__label {\n",
              "  cursor: pointer;\n",
              "  display: flex;\n",
              "  width: 100%;\n",
              "  margin-bottom: 0;\n",
              "  padding: 0.5em;\n",
              "  box-sizing: border-box;\n",
              "  text-align: center;\n",
              "  align-items: start;\n",
              "  justify-content: space-between;\n",
              "  gap: 0.5em;\n",
              "}\n",
              "\n",
              "#sk-container-id-1 label.sk-toggleable__label .caption {\n",
              "  font-size: 0.6rem;\n",
              "  font-weight: lighter;\n",
              "  color: var(--sklearn-color-text-muted);\n",
              "}\n",
              "\n",
              "#sk-container-id-1 label.sk-toggleable__label-arrow:before {\n",
              "  /* Arrow on the left of the label */\n",
              "  content: \"▸\";\n",
              "  float: left;\n",
              "  margin-right: 0.25em;\n",
              "  color: var(--sklearn-color-icon);\n",
              "}\n",
              "\n",
              "#sk-container-id-1 label.sk-toggleable__label-arrow:hover:before {\n",
              "  color: var(--sklearn-color-text);\n",
              "}\n",
              "\n",
              "/* Toggleable content - dropdown */\n",
              "\n",
              "#sk-container-id-1 div.sk-toggleable__content {\n",
              "  max-height: 0;\n",
              "  max-width: 0;\n",
              "  overflow: hidden;\n",
              "  text-align: left;\n",
              "  /* unfitted */\n",
              "  background-color: var(--sklearn-color-unfitted-level-0);\n",
              "}\n",
              "\n",
              "#sk-container-id-1 div.sk-toggleable__content.fitted {\n",
              "  /* fitted */\n",
              "  background-color: var(--sklearn-color-fitted-level-0);\n",
              "}\n",
              "\n",
              "#sk-container-id-1 div.sk-toggleable__content pre {\n",
              "  margin: 0.2em;\n",
              "  border-radius: 0.25em;\n",
              "  color: var(--sklearn-color-text);\n",
              "  /* unfitted */\n",
              "  background-color: var(--sklearn-color-unfitted-level-0);\n",
              "}\n",
              "\n",
              "#sk-container-id-1 div.sk-toggleable__content.fitted pre {\n",
              "  /* unfitted */\n",
              "  background-color: var(--sklearn-color-fitted-level-0);\n",
              "}\n",
              "\n",
              "#sk-container-id-1 input.sk-toggleable__control:checked~div.sk-toggleable__content {\n",
              "  /* Expand drop-down */\n",
              "  max-height: 200px;\n",
              "  max-width: 100%;\n",
              "  overflow: auto;\n",
              "}\n",
              "\n",
              "#sk-container-id-1 input.sk-toggleable__control:checked~label.sk-toggleable__label-arrow:before {\n",
              "  content: \"▾\";\n",
              "}\n",
              "\n",
              "/* Pipeline/ColumnTransformer-specific style */\n",
              "\n",
              "#sk-container-id-1 div.sk-label input.sk-toggleable__control:checked~label.sk-toggleable__label {\n",
              "  color: var(--sklearn-color-text);\n",
              "  background-color: var(--sklearn-color-unfitted-level-2);\n",
              "}\n",
              "\n",
              "#sk-container-id-1 div.sk-label.fitted input.sk-toggleable__control:checked~label.sk-toggleable__label {\n",
              "  background-color: var(--sklearn-color-fitted-level-2);\n",
              "}\n",
              "\n",
              "/* Estimator-specific style */\n",
              "\n",
              "/* Colorize estimator box */\n",
              "#sk-container-id-1 div.sk-estimator input.sk-toggleable__control:checked~label.sk-toggleable__label {\n",
              "  /* unfitted */\n",
              "  background-color: var(--sklearn-color-unfitted-level-2);\n",
              "}\n",
              "\n",
              "#sk-container-id-1 div.sk-estimator.fitted input.sk-toggleable__control:checked~label.sk-toggleable__label {\n",
              "  /* fitted */\n",
              "  background-color: var(--sklearn-color-fitted-level-2);\n",
              "}\n",
              "\n",
              "#sk-container-id-1 div.sk-label label.sk-toggleable__label,\n",
              "#sk-container-id-1 div.sk-label label {\n",
              "  /* The background is the default theme color */\n",
              "  color: var(--sklearn-color-text-on-default-background);\n",
              "}\n",
              "\n",
              "/* On hover, darken the color of the background */\n",
              "#sk-container-id-1 div.sk-label:hover label.sk-toggleable__label {\n",
              "  color: var(--sklearn-color-text);\n",
              "  background-color: var(--sklearn-color-unfitted-level-2);\n",
              "}\n",
              "\n",
              "/* Label box, darken color on hover, fitted */\n",
              "#sk-container-id-1 div.sk-label.fitted:hover label.sk-toggleable__label.fitted {\n",
              "  color: var(--sklearn-color-text);\n",
              "  background-color: var(--sklearn-color-fitted-level-2);\n",
              "}\n",
              "\n",
              "/* Estimator label */\n",
              "\n",
              "#sk-container-id-1 div.sk-label label {\n",
              "  font-family: monospace;\n",
              "  font-weight: bold;\n",
              "  display: inline-block;\n",
              "  line-height: 1.2em;\n",
              "}\n",
              "\n",
              "#sk-container-id-1 div.sk-label-container {\n",
              "  text-align: center;\n",
              "}\n",
              "\n",
              "/* Estimator-specific */\n",
              "#sk-container-id-1 div.sk-estimator {\n",
              "  font-family: monospace;\n",
              "  border: 1px dotted var(--sklearn-color-border-box);\n",
              "  border-radius: 0.25em;\n",
              "  box-sizing: border-box;\n",
              "  margin-bottom: 0.5em;\n",
              "  /* unfitted */\n",
              "  background-color: var(--sklearn-color-unfitted-level-0);\n",
              "}\n",
              "\n",
              "#sk-container-id-1 div.sk-estimator.fitted {\n",
              "  /* fitted */\n",
              "  background-color: var(--sklearn-color-fitted-level-0);\n",
              "}\n",
              "\n",
              "/* on hover */\n",
              "#sk-container-id-1 div.sk-estimator:hover {\n",
              "  /* unfitted */\n",
              "  background-color: var(--sklearn-color-unfitted-level-2);\n",
              "}\n",
              "\n",
              "#sk-container-id-1 div.sk-estimator.fitted:hover {\n",
              "  /* fitted */\n",
              "  background-color: var(--sklearn-color-fitted-level-2);\n",
              "}\n",
              "\n",
              "/* Specification for estimator info (e.g. \"i\" and \"?\") */\n",
              "\n",
              "/* Common style for \"i\" and \"?\" */\n",
              "\n",
              ".sk-estimator-doc-link,\n",
              "a:link.sk-estimator-doc-link,\n",
              "a:visited.sk-estimator-doc-link {\n",
              "  float: right;\n",
              "  font-size: smaller;\n",
              "  line-height: 1em;\n",
              "  font-family: monospace;\n",
              "  background-color: var(--sklearn-color-background);\n",
              "  border-radius: 1em;\n",
              "  height: 1em;\n",
              "  width: 1em;\n",
              "  text-decoration: none !important;\n",
              "  margin-left: 0.5em;\n",
              "  text-align: center;\n",
              "  /* unfitted */\n",
              "  border: var(--sklearn-color-unfitted-level-1) 1pt solid;\n",
              "  color: var(--sklearn-color-unfitted-level-1);\n",
              "}\n",
              "\n",
              ".sk-estimator-doc-link.fitted,\n",
              "a:link.sk-estimator-doc-link.fitted,\n",
              "a:visited.sk-estimator-doc-link.fitted {\n",
              "  /* fitted */\n",
              "  border: var(--sklearn-color-fitted-level-1) 1pt solid;\n",
              "  color: var(--sklearn-color-fitted-level-1);\n",
              "}\n",
              "\n",
              "/* On hover */\n",
              "div.sk-estimator:hover .sk-estimator-doc-link:hover,\n",
              ".sk-estimator-doc-link:hover,\n",
              "div.sk-label-container:hover .sk-estimator-doc-link:hover,\n",
              ".sk-estimator-doc-link:hover {\n",
              "  /* unfitted */\n",
              "  background-color: var(--sklearn-color-unfitted-level-3);\n",
              "  color: var(--sklearn-color-background);\n",
              "  text-decoration: none;\n",
              "}\n",
              "\n",
              "div.sk-estimator.fitted:hover .sk-estimator-doc-link.fitted:hover,\n",
              ".sk-estimator-doc-link.fitted:hover,\n",
              "div.sk-label-container:hover .sk-estimator-doc-link.fitted:hover,\n",
              ".sk-estimator-doc-link.fitted:hover {\n",
              "  /* fitted */\n",
              "  background-color: var(--sklearn-color-fitted-level-3);\n",
              "  color: var(--sklearn-color-background);\n",
              "  text-decoration: none;\n",
              "}\n",
              "\n",
              "/* Span, style for the box shown on hovering the info icon */\n",
              ".sk-estimator-doc-link span {\n",
              "  display: none;\n",
              "  z-index: 9999;\n",
              "  position: relative;\n",
              "  font-weight: normal;\n",
              "  right: .2ex;\n",
              "  padding: .5ex;\n",
              "  margin: .5ex;\n",
              "  width: min-content;\n",
              "  min-width: 20ex;\n",
              "  max-width: 50ex;\n",
              "  color: var(--sklearn-color-text);\n",
              "  box-shadow: 2pt 2pt 4pt #999;\n",
              "  /* unfitted */\n",
              "  background: var(--sklearn-color-unfitted-level-0);\n",
              "  border: .5pt solid var(--sklearn-color-unfitted-level-3);\n",
              "}\n",
              "\n",
              ".sk-estimator-doc-link.fitted span {\n",
              "  /* fitted */\n",
              "  background: var(--sklearn-color-fitted-level-0);\n",
              "  border: var(--sklearn-color-fitted-level-3);\n",
              "}\n",
              "\n",
              ".sk-estimator-doc-link:hover span {\n",
              "  display: block;\n",
              "}\n",
              "\n",
              "/* \"?\"-specific style due to the `<a>` HTML tag */\n",
              "\n",
              "#sk-container-id-1 a.estimator_doc_link {\n",
              "  float: right;\n",
              "  font-size: 1rem;\n",
              "  line-height: 1em;\n",
              "  font-family: monospace;\n",
              "  background-color: var(--sklearn-color-background);\n",
              "  border-radius: 1rem;\n",
              "  height: 1rem;\n",
              "  width: 1rem;\n",
              "  text-decoration: none;\n",
              "  /* unfitted */\n",
              "  color: var(--sklearn-color-unfitted-level-1);\n",
              "  border: var(--sklearn-color-unfitted-level-1) 1pt solid;\n",
              "}\n",
              "\n",
              "#sk-container-id-1 a.estimator_doc_link.fitted {\n",
              "  /* fitted */\n",
              "  border: var(--sklearn-color-fitted-level-1) 1pt solid;\n",
              "  color: var(--sklearn-color-fitted-level-1);\n",
              "}\n",
              "\n",
              "/* On hover */\n",
              "#sk-container-id-1 a.estimator_doc_link:hover {\n",
              "  /* unfitted */\n",
              "  background-color: var(--sklearn-color-unfitted-level-3);\n",
              "  color: var(--sklearn-color-background);\n",
              "  text-decoration: none;\n",
              "}\n",
              "\n",
              "#sk-container-id-1 a.estimator_doc_link.fitted:hover {\n",
              "  /* fitted */\n",
              "  background-color: var(--sklearn-color-fitted-level-3);\n",
              "}\n",
              "</style><div id=\"sk-container-id-1\" class=\"sk-top-container\"><div class=\"sk-text-repr-fallback\"><pre>GridSearchCV(cv=5,\n",
              "             estimator=Pipeline(steps=[(&#x27;pre&#x27;,\n",
              "                                        ColumnTransformer(transformers=[(&#x27;num&#x27;,\n",
              "                                                                         Pipeline(steps=[(&#x27;impute&#x27;,\n",
              "                                                                                          SimpleImputer(strategy=&#x27;median&#x27;)),\n",
              "                                                                                         (&#x27;scale&#x27;,\n",
              "                                                                                          StandardScaler())]),\n",
              "                                                                         [&#x27;Age&#x27;,\n",
              "                                                                          &#x27;Number &#x27;\n",
              "                                                                          &#x27;of &#x27;\n",
              "                                                                          &#x27;Dependents&#x27;,\n",
              "                                                                          &#x27;Zip &#x27;\n",
              "                                                                          &#x27;Code&#x27;,\n",
              "                                                                          &#x27;Latitude&#x27;,\n",
              "                                                                          &#x27;Longitude&#x27;,\n",
              "                                                                          &#x27;Number &#x27;\n",
              "                                                                          &#x27;of &#x27;\n",
              "                                                                          &#x27;Referrals&#x27;,\n",
              "                                                                          &#x27;Tenure &#x27;\n",
              "                                                                          &#x27;in &#x27;\n",
              "                                                                          &#x27;Months&#x27;,\n",
              "                                                                          &#x27;Avg &#x27;\n",
              "                                                                          &#x27;Monthly &#x27;\n",
              "                                                                          &#x27;Long &#x27;\n",
              "                                                                          &#x27;Distance &#x27;\n",
              "                                                                          &#x27;Charges&#x27;,\n",
              "                                                                          &#x27;Avg &#x27;\n",
              "                                                                          &#x27;Monthly &#x27;\n",
              "                                                                          &#x27;GB &#x27;\n",
              "                                                                          &#x27;...\n",
              "                                                                          &#x27;Plan&#x27;,\n",
              "                                                                          &#x27;Premium &#x27;\n",
              "                                                                          &#x27;Tech &#x27;\n",
              "                                                                          &#x27;Support&#x27;,\n",
              "                                                                          &#x27;Streaming &#x27;\n",
              "                                                                          &#x27;TV&#x27;,\n",
              "                                                                          &#x27;Streaming &#x27;\n",
              "                                                                          &#x27;Movies&#x27;,\n",
              "                                                                          &#x27;Streaming &#x27;\n",
              "                                                                          &#x27;Music&#x27;,\n",
              "                                                                          &#x27;Unlimited &#x27;\n",
              "                                                                          &#x27;Data&#x27;,\n",
              "                                                                          &#x27;Contract&#x27;,\n",
              "                                                                          &#x27;Paperless &#x27;\n",
              "                                                                          &#x27;Billing&#x27;,\n",
              "                                                                          &#x27;Payment &#x27;\n",
              "                                                                          &#x27;Method&#x27;,\n",
              "                                                                          &#x27;Customer &#x27;\n",
              "                                                                          &#x27;Status&#x27;])])),\n",
              "                                       (&#x27;pca&#x27;, PCA()),\n",
              "                                       (&#x27;clf&#x27;,\n",
              "                                        LogisticRegression(class_weight=&#x27;balanced&#x27;,\n",
              "                                                           max_iter=1000))]),\n",
              "             n_jobs=-1,\n",
              "             param_grid={&#x27;clf__C&#x27;: [0.001, 0.01, 0.1],\n",
              "                         &#x27;pca__n_components&#x27;: [5, 10]},\n",
              "             scoring=&#x27;recall&#x27;)</pre><b>In a Jupyter environment, please rerun this cell to show the HTML representation or trust the notebook. <br />On GitHub, the HTML representation is unable to render, please try loading this page with nbviewer.org.</b></div><div class=\"sk-container\" hidden><div class=\"sk-item sk-dashed-wrapped\"><div class=\"sk-label-container\"><div class=\"sk-label fitted sk-toggleable\"><input class=\"sk-toggleable__control sk-hidden--visually\" id=\"sk-estimator-id-1\" type=\"checkbox\" ><label for=\"sk-estimator-id-1\" class=\"sk-toggleable__label fitted sk-toggleable__label-arrow\"><div><div>GridSearchCV</div></div><div><a class=\"sk-estimator-doc-link fitted\" rel=\"noreferrer\" target=\"_blank\" href=\"https://scikit-learn.org/1.6/modules/generated/sklearn.model_selection.GridSearchCV.html\">?<span>Documentation for GridSearchCV</span></a><span class=\"sk-estimator-doc-link fitted\">i<span>Fitted</span></span></div></label><div class=\"sk-toggleable__content fitted\"><pre>GridSearchCV(cv=5,\n",
              "             estimator=Pipeline(steps=[(&#x27;pre&#x27;,\n",
              "                                        ColumnTransformer(transformers=[(&#x27;num&#x27;,\n",
              "                                                                         Pipeline(steps=[(&#x27;impute&#x27;,\n",
              "                                                                                          SimpleImputer(strategy=&#x27;median&#x27;)),\n",
              "                                                                                         (&#x27;scale&#x27;,\n",
              "                                                                                          StandardScaler())]),\n",
              "                                                                         [&#x27;Age&#x27;,\n",
              "                                                                          &#x27;Number &#x27;\n",
              "                                                                          &#x27;of &#x27;\n",
              "                                                                          &#x27;Dependents&#x27;,\n",
              "                                                                          &#x27;Zip &#x27;\n",
              "                                                                          &#x27;Code&#x27;,\n",
              "                                                                          &#x27;Latitude&#x27;,\n",
              "                                                                          &#x27;Longitude&#x27;,\n",
              "                                                                          &#x27;Number &#x27;\n",
              "                                                                          &#x27;of &#x27;\n",
              "                                                                          &#x27;Referrals&#x27;,\n",
              "                                                                          &#x27;Tenure &#x27;\n",
              "                                                                          &#x27;in &#x27;\n",
              "                                                                          &#x27;Months&#x27;,\n",
              "                                                                          &#x27;Avg &#x27;\n",
              "                                                                          &#x27;Monthly &#x27;\n",
              "                                                                          &#x27;Long &#x27;\n",
              "                                                                          &#x27;Distance &#x27;\n",
              "                                                                          &#x27;Charges&#x27;,\n",
              "                                                                          &#x27;Avg &#x27;\n",
              "                                                                          &#x27;Monthly &#x27;\n",
              "                                                                          &#x27;GB &#x27;\n",
              "                                                                          &#x27;...\n",
              "                                                                          &#x27;Plan&#x27;,\n",
              "                                                                          &#x27;Premium &#x27;\n",
              "                                                                          &#x27;Tech &#x27;\n",
              "                                                                          &#x27;Support&#x27;,\n",
              "                                                                          &#x27;Streaming &#x27;\n",
              "                                                                          &#x27;TV&#x27;,\n",
              "                                                                          &#x27;Streaming &#x27;\n",
              "                                                                          &#x27;Movies&#x27;,\n",
              "                                                                          &#x27;Streaming &#x27;\n",
              "                                                                          &#x27;Music&#x27;,\n",
              "                                                                          &#x27;Unlimited &#x27;\n",
              "                                                                          &#x27;Data&#x27;,\n",
              "                                                                          &#x27;Contract&#x27;,\n",
              "                                                                          &#x27;Paperless &#x27;\n",
              "                                                                          &#x27;Billing&#x27;,\n",
              "                                                                          &#x27;Payment &#x27;\n",
              "                                                                          &#x27;Method&#x27;,\n",
              "                                                                          &#x27;Customer &#x27;\n",
              "                                                                          &#x27;Status&#x27;])])),\n",
              "                                       (&#x27;pca&#x27;, PCA()),\n",
              "                                       (&#x27;clf&#x27;,\n",
              "                                        LogisticRegression(class_weight=&#x27;balanced&#x27;,\n",
              "                                                           max_iter=1000))]),\n",
              "             n_jobs=-1,\n",
              "             param_grid={&#x27;clf__C&#x27;: [0.001, 0.01, 0.1],\n",
              "                         &#x27;pca__n_components&#x27;: [5, 10]},\n",
              "             scoring=&#x27;recall&#x27;)</pre></div> </div></div><div class=\"sk-parallel\"><div class=\"sk-parallel-item\"><div class=\"sk-item\"><div class=\"sk-label-container\"><div class=\"sk-label fitted sk-toggleable\"><input class=\"sk-toggleable__control sk-hidden--visually\" id=\"sk-estimator-id-2\" type=\"checkbox\" ><label for=\"sk-estimator-id-2\" class=\"sk-toggleable__label fitted sk-toggleable__label-arrow\"><div><div>best_estimator_: Pipeline</div></div></label><div class=\"sk-toggleable__content fitted\"><pre>Pipeline(steps=[(&#x27;pre&#x27;,\n",
              "                 ColumnTransformer(transformers=[(&#x27;num&#x27;,\n",
              "                                                  Pipeline(steps=[(&#x27;impute&#x27;,\n",
              "                                                                   SimpleImputer(strategy=&#x27;median&#x27;)),\n",
              "                                                                  (&#x27;scale&#x27;,\n",
              "                                                                   StandardScaler())]),\n",
              "                                                  [&#x27;Age&#x27;,\n",
              "                                                   &#x27;Number of Dependents&#x27;,\n",
              "                                                   &#x27;Zip Code&#x27;, &#x27;Latitude&#x27;,\n",
              "                                                   &#x27;Longitude&#x27;,\n",
              "                                                   &#x27;Number of Referrals&#x27;,\n",
              "                                                   &#x27;Tenure in Months&#x27;,\n",
              "                                                   &#x27;Avg Monthly Long Distance &#x27;\n",
              "                                                   &#x27;Charges&#x27;,\n",
              "                                                   &#x27;Avg Monthly GB Download&#x27;,\n",
              "                                                   &#x27;Monthly Charge&#x27;,\n",
              "                                                   &#x27;Total Charges&#x27;,\n",
              "                                                   &#x27;Total Refunds...\n",
              "                                                   &#x27;Multiple Lines&#x27;,\n",
              "                                                   &#x27;Internet Service&#x27;,\n",
              "                                                   &#x27;Internet Type&#x27;,\n",
              "                                                   &#x27;Online Security&#x27;,\n",
              "                                                   &#x27;Online Backup&#x27;,\n",
              "                                                   &#x27;Device Protection Plan&#x27;,\n",
              "                                                   &#x27;Premium Tech Support&#x27;,\n",
              "                                                   &#x27;Streaming TV&#x27;,\n",
              "                                                   &#x27;Streaming Movies&#x27;,\n",
              "                                                   &#x27;Streaming Music&#x27;,\n",
              "                                                   &#x27;Unlimited Data&#x27;, &#x27;Contract&#x27;,\n",
              "                                                   &#x27;Paperless Billing&#x27;,\n",
              "                                                   &#x27;Payment Method&#x27;,\n",
              "                                                   &#x27;Customer Status&#x27;])])),\n",
              "                (&#x27;pca&#x27;, PCA(n_components=10)),\n",
              "                (&#x27;clf&#x27;,\n",
              "                 LogisticRegression(C=0.001, class_weight=&#x27;balanced&#x27;,\n",
              "                                    max_iter=1000))])</pre></div> </div></div><div class=\"sk-serial\"><div class=\"sk-item\"><div class=\"sk-serial\"><div class=\"sk-item sk-dashed-wrapped\"><div class=\"sk-label-container\"><div class=\"sk-label fitted sk-toggleable\"><input class=\"sk-toggleable__control sk-hidden--visually\" id=\"sk-estimator-id-3\" type=\"checkbox\" ><label for=\"sk-estimator-id-3\" class=\"sk-toggleable__label fitted sk-toggleable__label-arrow\"><div><div>pre: ColumnTransformer</div></div><div><a class=\"sk-estimator-doc-link fitted\" rel=\"noreferrer\" target=\"_blank\" href=\"https://scikit-learn.org/1.6/modules/generated/sklearn.compose.ColumnTransformer.html\">?<span>Documentation for pre: ColumnTransformer</span></a></div></label><div class=\"sk-toggleable__content fitted\"><pre>ColumnTransformer(transformers=[(&#x27;num&#x27;,\n",
              "                                 Pipeline(steps=[(&#x27;impute&#x27;,\n",
              "                                                  SimpleImputer(strategy=&#x27;median&#x27;)),\n",
              "                                                 (&#x27;scale&#x27;, StandardScaler())]),\n",
              "                                 [&#x27;Age&#x27;, &#x27;Number of Dependents&#x27;, &#x27;Zip Code&#x27;,\n",
              "                                  &#x27;Latitude&#x27;, &#x27;Longitude&#x27;,\n",
              "                                  &#x27;Number of Referrals&#x27;, &#x27;Tenure in Months&#x27;,\n",
              "                                  &#x27;Avg Monthly Long Distance Charges&#x27;,\n",
              "                                  &#x27;Avg Monthly GB Download&#x27;, &#x27;Monthly Charge&#x27;,\n",
              "                                  &#x27;Total Charges&#x27;, &#x27;Total Refunds&#x27;,\n",
              "                                  &#x27;Total Extra Data Charges&#x27;...\n",
              "                                                  OneHotEncoder(handle_unknown=&#x27;ignore&#x27;,\n",
              "                                                                sparse_output=False))]),\n",
              "                                 [&#x27;Gender&#x27;, &#x27;Married&#x27;, &#x27;City&#x27;, &#x27;Offer&#x27;,\n",
              "                                  &#x27;Phone Service&#x27;, &#x27;Multiple Lines&#x27;,\n",
              "                                  &#x27;Internet Service&#x27;, &#x27;Internet Type&#x27;,\n",
              "                                  &#x27;Online Security&#x27;, &#x27;Online Backup&#x27;,\n",
              "                                  &#x27;Device Protection Plan&#x27;,\n",
              "                                  &#x27;Premium Tech Support&#x27;, &#x27;Streaming TV&#x27;,\n",
              "                                  &#x27;Streaming Movies&#x27;, &#x27;Streaming Music&#x27;,\n",
              "                                  &#x27;Unlimited Data&#x27;, &#x27;Contract&#x27;,\n",
              "                                  &#x27;Paperless Billing&#x27;, &#x27;Payment Method&#x27;,\n",
              "                                  &#x27;Customer Status&#x27;])])</pre></div> </div></div><div class=\"sk-parallel\"><div class=\"sk-parallel-item\"><div class=\"sk-item\"><div class=\"sk-label-container\"><div class=\"sk-label fitted sk-toggleable\"><input class=\"sk-toggleable__control sk-hidden--visually\" id=\"sk-estimator-id-4\" type=\"checkbox\" ><label for=\"sk-estimator-id-4\" class=\"sk-toggleable__label fitted sk-toggleable__label-arrow\"><div><div>num</div></div></label><div class=\"sk-toggleable__content fitted\"><pre>[&#x27;Age&#x27;, &#x27;Number of Dependents&#x27;, &#x27;Zip Code&#x27;, &#x27;Latitude&#x27;, &#x27;Longitude&#x27;, &#x27;Number of Referrals&#x27;, &#x27;Tenure in Months&#x27;, &#x27;Avg Monthly Long Distance Charges&#x27;, &#x27;Avg Monthly GB Download&#x27;, &#x27;Monthly Charge&#x27;, &#x27;Total Charges&#x27;, &#x27;Total Refunds&#x27;, &#x27;Total Extra Data Charges&#x27;, &#x27;Total Long Distance Charges&#x27;, &#x27;Total Revenue&#x27;]</pre></div> </div></div><div class=\"sk-serial\"><div class=\"sk-item\"><div class=\"sk-serial\"><div class=\"sk-item\"><div class=\"sk-estimator fitted sk-toggleable\"><input class=\"sk-toggleable__control sk-hidden--visually\" id=\"sk-estimator-id-5\" type=\"checkbox\" ><label for=\"sk-estimator-id-5\" class=\"sk-toggleable__label fitted sk-toggleable__label-arrow\"><div><div>SimpleImputer</div></div><div><a class=\"sk-estimator-doc-link fitted\" rel=\"noreferrer\" target=\"_blank\" href=\"https://scikit-learn.org/1.6/modules/generated/sklearn.impute.SimpleImputer.html\">?<span>Documentation for SimpleImputer</span></a></div></label><div class=\"sk-toggleable__content fitted\"><pre>SimpleImputer(strategy=&#x27;median&#x27;)</pre></div> </div></div><div class=\"sk-item\"><div class=\"sk-estimator fitted sk-toggleable\"><input class=\"sk-toggleable__control sk-hidden--visually\" id=\"sk-estimator-id-6\" type=\"checkbox\" ><label for=\"sk-estimator-id-6\" class=\"sk-toggleable__label fitted sk-toggleable__label-arrow\"><div><div>StandardScaler</div></div><div><a class=\"sk-estimator-doc-link fitted\" rel=\"noreferrer\" target=\"_blank\" href=\"https://scikit-learn.org/1.6/modules/generated/sklearn.preprocessing.StandardScaler.html\">?<span>Documentation for StandardScaler</span></a></div></label><div class=\"sk-toggleable__content fitted\"><pre>StandardScaler()</pre></div> </div></div></div></div></div></div></div><div class=\"sk-parallel-item\"><div class=\"sk-item\"><div class=\"sk-label-container\"><div class=\"sk-label fitted sk-toggleable\"><input class=\"sk-toggleable__control sk-hidden--visually\" id=\"sk-estimator-id-7\" type=\"checkbox\" ><label for=\"sk-estimator-id-7\" class=\"sk-toggleable__label fitted sk-toggleable__label-arrow\"><div><div>cat</div></div></label><div class=\"sk-toggleable__content fitted\"><pre>[&#x27;Gender&#x27;, &#x27;Married&#x27;, &#x27;City&#x27;, &#x27;Offer&#x27;, &#x27;Phone Service&#x27;, &#x27;Multiple Lines&#x27;, &#x27;Internet Service&#x27;, &#x27;Internet Type&#x27;, &#x27;Online Security&#x27;, &#x27;Online Backup&#x27;, &#x27;Device Protection Plan&#x27;, &#x27;Premium Tech Support&#x27;, &#x27;Streaming TV&#x27;, &#x27;Streaming Movies&#x27;, &#x27;Streaming Music&#x27;, &#x27;Unlimited Data&#x27;, &#x27;Contract&#x27;, &#x27;Paperless Billing&#x27;, &#x27;Payment Method&#x27;, &#x27;Customer Status&#x27;]</pre></div> </div></div><div class=\"sk-serial\"><div class=\"sk-item\"><div class=\"sk-serial\"><div class=\"sk-item\"><div class=\"sk-estimator fitted sk-toggleable\"><input class=\"sk-toggleable__control sk-hidden--visually\" id=\"sk-estimator-id-8\" type=\"checkbox\" ><label for=\"sk-estimator-id-8\" class=\"sk-toggleable__label fitted sk-toggleable__label-arrow\"><div><div>SimpleImputer</div></div><div><a class=\"sk-estimator-doc-link fitted\" rel=\"noreferrer\" target=\"_blank\" href=\"https://scikit-learn.org/1.6/modules/generated/sklearn.impute.SimpleImputer.html\">?<span>Documentation for SimpleImputer</span></a></div></label><div class=\"sk-toggleable__content fitted\"><pre>SimpleImputer(strategy=&#x27;most_frequent&#x27;)</pre></div> </div></div><div class=\"sk-item\"><div class=\"sk-estimator fitted sk-toggleable\"><input class=\"sk-toggleable__control sk-hidden--visually\" id=\"sk-estimator-id-9\" type=\"checkbox\" ><label for=\"sk-estimator-id-9\" class=\"sk-toggleable__label fitted sk-toggleable__label-arrow\"><div><div>OneHotEncoder</div></div><div><a class=\"sk-estimator-doc-link fitted\" rel=\"noreferrer\" target=\"_blank\" href=\"https://scikit-learn.org/1.6/modules/generated/sklearn.preprocessing.OneHotEncoder.html\">?<span>Documentation for OneHotEncoder</span></a></div></label><div class=\"sk-toggleable__content fitted\"><pre>OneHotEncoder(handle_unknown=&#x27;ignore&#x27;, sparse_output=False)</pre></div> </div></div></div></div></div></div></div></div></div><div class=\"sk-item\"><div class=\"sk-estimator fitted sk-toggleable\"><input class=\"sk-toggleable__control sk-hidden--visually\" id=\"sk-estimator-id-10\" type=\"checkbox\" ><label for=\"sk-estimator-id-10\" class=\"sk-toggleable__label fitted sk-toggleable__label-arrow\"><div><div>PCA</div></div><div><a class=\"sk-estimator-doc-link fitted\" rel=\"noreferrer\" target=\"_blank\" href=\"https://scikit-learn.org/1.6/modules/generated/sklearn.decomposition.PCA.html\">?<span>Documentation for PCA</span></a></div></label><div class=\"sk-toggleable__content fitted\"><pre>PCA(n_components=10)</pre></div> </div></div><div class=\"sk-item\"><div class=\"sk-estimator fitted sk-toggleable\"><input class=\"sk-toggleable__control sk-hidden--visually\" id=\"sk-estimator-id-11\" type=\"checkbox\" ><label for=\"sk-estimator-id-11\" class=\"sk-toggleable__label fitted sk-toggleable__label-arrow\"><div><div>LogisticRegression</div></div><div><a class=\"sk-estimator-doc-link fitted\" rel=\"noreferrer\" target=\"_blank\" href=\"https://scikit-learn.org/1.6/modules/generated/sklearn.linear_model.LogisticRegression.html\">?<span>Documentation for LogisticRegression</span></a></div></label><div class=\"sk-toggleable__content fitted\"><pre>LogisticRegression(C=0.001, class_weight=&#x27;balanced&#x27;, max_iter=1000)</pre></div> </div></div></div></div></div></div></div></div></div></div></div>"
            ]
          },
          "metadata": {},
          "execution_count": 17
        }
      ]
    },
    {
      "cell_type": "markdown",
      "source": [
        "**1. Retraining your final Pipline**\n",
        "\n",
        "\n",
        "\n",
        "\n"
      ],
      "metadata": {
        "id": "WKi_ZZpuIO2R"
      }
    },
    {
      "cell_type": "code",
      "source": [
        "from sklearn.pipeline import Pipeline\n",
        "from sklearn.decomposition import PCA\n",
        "from sklearn.linear_model import LogisticRegression\n",
        "\n",
        "# Reuse the preprocessor you built (with imputation + scaling + OHE)\n",
        "pipe_final = Pipeline([\n",
        "    (\"pre\", preprocessor),\n",
        "    (\"pca\", PCA(n_components=20)),\n",
        "    (\"clf\", LogisticRegression(\n",
        "        C=0.1,\n",
        "        class_weight=\"balanced\",\n",
        "        max_iter=1000,\n",
        "        random_state=42\n",
        "    ))\n",
        "])\n",
        "\n",
        "# Fit on full train\n",
        "pipe_final.fit(X_train, y_train)\n",
        "\n",
        "# Test‐set evaluation\n",
        "y_test_pred  = pipe_final.predict(X_test)\n",
        "y_test_proba = pipe_final.predict_proba(X_test)[:, 1]\n",
        "\n",
        "from sklearn.metrics import classification_report, roc_auc_score\n",
        "print(classification_report(y_test, y_test_pred))\n",
        "print(\"ROC AUC:\", roc_auc_score(y_test, y_test_proba))"
      ],
      "metadata": {
        "colab": {
          "base_uri": "https://localhost:8080/"
        },
        "id": "fcZdYvk8IERv",
        "outputId": "02465258-8613-4a42-e02e-ce3fd6bcf1c0"
      },
      "execution_count": 18,
      "outputs": [
        {
          "output_type": "stream",
          "name": "stdout",
          "text": [
            "              precision    recall  f1-score   support\n",
            "\n",
            "           0       0.99      0.94      0.96      1552\n",
            "           1       0.86      0.96      0.91       561\n",
            "\n",
            "    accuracy                           0.95      2113\n",
            "   macro avg       0.92      0.95      0.94      2113\n",
            "weighted avg       0.95      0.95      0.95      2113\n",
            "\n",
            "ROC AUC: 0.9916558704081445\n"
          ]
        }
      ]
    },
    {
      "cell_type": "markdown",
      "source": [
        "**2. Inspecting explained-variance of your 20 components**"
      ],
      "metadata": {
        "id": "BqXD0Us3IfMZ"
      }
    },
    {
      "cell_type": "code",
      "source": [
        "explained = pipe_final.named_steps[\"pca\"].explained_variance_ratio_\n",
        "print(f\"Total variance explained by 20 components: {explained.sum():.3%}\")"
      ],
      "metadata": {
        "colab": {
          "base_uri": "https://localhost:8080/"
        },
        "id": "9HzDTCdHIbG3",
        "outputId": "6fa58596-0558-4214-e061-dbc406980f1c"
      },
      "execution_count": 19,
      "outputs": [
        {
          "output_type": "stream",
          "name": "stdout",
          "text": [
            "Total variance explained by 20 components: 85.767%\n"
          ]
        }
      ]
    },
    {
      "cell_type": "code",
      "source": [],
      "metadata": {
        "id": "d7O4Fr2eIjuP"
      },
      "execution_count": null,
      "outputs": []
    }
  ]
}